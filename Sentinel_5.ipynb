{
 "cells": [
  {
   "cell_type": "markdown",
   "id": "21ec5555",
   "metadata": {},
   "source": [
    "# Sentinel-5P\n",
    "\n",
    "\n",
    "This notebook explores working with Sentinel-3 data. \n",
    "\n",
    "## Sentinel-5P OLCI\n",
    "\n",
    "https://sentinels.copernicus.eu/web/sentinel/user-guides/sentinel-3-olci\n",
    "\n",
    "The OLCI dataset provided by Sentinelhub is based on the level-1b products. These products are provided in \"instrument\" projection rather than being projected into a ground-based reference system. Hence, these products do not come with a 'native' reference system. The openEO collections are currently configured to use EPSG:4326 unprojected coordinates, with a resolution set to a fixed value that tries to approximate the native 300m ground resolution.\n"
   ]
  },
  {
   "cell_type": "code",
   "execution_count": 1,
   "id": "68976db2",
   "metadata": {},
   "outputs": [],
   "source": [
    "import openeo\n",
    "import xarray\n",
    "import matplotlib.pyplot as plt\n",
    "import numpy as np"
   ]
  },
  {
   "cell_type": "code",
   "execution_count": 3,
   "id": "19166404",
   "metadata": {},
   "outputs": [
    {
     "name": "stdout",
     "output_type": "stream",
     "text": [
      "Authenticated using refresh token.\n"
     ]
    },
    {
     "data": {
      "text/plain": [
       "<Connection to 'https://openeo.dataspace.copernicus.eu/openeo/1.2/' with OidcBearerAuth>"
      ]
     },
     "execution_count": 3,
     "metadata": {},
     "output_type": "execute_result"
    }
   ],
   "source": [
    "conn = openeo.connect(\"openeo.dataspace.copernicus.eu\")\n",
    "conn.authenticate_oidc()"
   ]
  },
  {
   "cell_type": "markdown",
   "id": "9bbe31e6-8cb3-4afc-817a-e168dd197689",
   "metadata": {},
   "source": [
    "### Load the collection"
   ]
  },
  {
   "cell_type": "code",
   "execution_count": 4,
   "id": "9e846995",
   "metadata": {
    "scrolled": true
   },
   "outputs": [
    {
     "data": {
      "text/html": [
       "\n",
       "    <script>\n",
       "    if (!window.customElements || !window.customElements.get('openeo-collection')) {\n",
       "        var el = document.createElement('script');\n",
       "        el.src = \"https://cdn.jsdelivr.net/npm/@openeo/vue-components@2/assets/openeo.min.js\";\n",
       "        document.head.appendChild(el);\n",
       "\n",
       "        var font = document.createElement('font');\n",
       "        font.as = \"font\";\n",
       "        font.type = \"font/woff2\";\n",
       "        font.crossOrigin = true;\n",
       "        font.href = \"https://use.fontawesome.com/releases/v5.13.0/webfonts/fa-solid-900.woff2\"\n",
       "        document.head.appendChild(font);\n",
       "    }\n",
       "    </script>\n",
       "    <openeo-collection>\n",
       "        <script type=\"application/json\">{\"mapOptions\": {}, \"data\": {\"cube:dimensions\": {\"bands\": {\"type\": \"bands\", \"values\": [\"CO\", \"HCHO\", \"NO2\", \"O3\", \"SO2\", \"CH4\", \"AER_AI_340_380\", \"AER_AI_354_388\", \"CLOUD_BASE_PRESSURE\", \"CLOUD_TOP_PRESSURE\", \"CLOUD_BASE_HEIGHT\", \"CLOUD_TOP_HEIGHT\", \"CLOUD_OPTICAL_THICKNESS\", \"CLOUD_FRACTION\", \"dataMask\"]}, \"t\": {\"extent\": [\"2018-04-30T00:18:50Z\", null], \"step\": \"P1D\", \"type\": \"temporal\"}, \"x\": {\"axis\": \"x\", \"extent\": [-180, 180], \"reference_system\": 4326, \"type\": \"spatial\"}, \"y\": {\"axis\": \"y\", \"extent\": [-85, 85], \"reference_system\": 4326, \"type\": \"spatial\"}}, \"description\": \"Sentinel 5 Precursor imagery captured by TROPOMI sensor.\\n\\nThis dataset only supports loading one band at a time.\", \"extent\": {\"spatial\": {\"bbox\": [[-180.0, -85.0, 180.0, 85.0]]}, \"temporal\": {\"interval\": [[\"2018-04-30T00:18:50Z\", null]]}}, \"id\": \"SENTINEL_5P_L2\", \"license\": \"proprietary\", \"links\": [{\"href\": \"https://sh.dataspace.copernicus.eu/api/v1/catalog/1.0.0/\", \"rel\": \"root\", \"type\": \"application/json\"}, {\"href\": \"https://sh.dataspace.copernicus.eu/api/v1/catalog/1.0.0/collections/sentinel-5p-l2\", \"rel\": \"self\", \"type\": \"application/json\"}, {\"href\": \"https://sh.dataspace.copernicus.eu/api/v1/catalog/1.0.0/collections\", \"rel\": \"parent\", \"type\": \"application/json\"}, {\"href\": \"https://sh.dataspace.copernicus.eu/api/v1/catalog/1.0.0/collections/sentinel-5p-l2/queryables\", \"rel\": \"http://www.opengis.net/def/rel/ogc/1.0/queryables\", \"type\": \"application/schema+json\"}, {\"href\": \"https://sh.dataspace.copernicus.eu/api/v1/catalog/1.0.0/collections/sentinel-5p-l2/items\", \"rel\": \"items\", \"type\": \"application/geo+json\"}], \"providers\": [], \"sci:citation\": \"Modified Copernicus Sentinel data [Year]/Sentinel Hub\", \"stac_extensions\": [\"https://stac-extensions.github.io/scientific/v1.0.0/schema.json\", \"https://stac-extensions.github.io/sat/v1.0.0/schema.json\", \"https://docs.sentinel-hub.com/api/latest/stac/s5p/v1.0.0/schema.json\"], \"stac_version\": \"1.0.0\", \"summaries\": {\"eo:bands\": [{\"data_type\": \"float32\", \"description\": \"Carbon monoxide\", \"name\": \"CO\", \"openeo:gsd\": {\"unit\": \"\\u00b0\", \"value\": [0.054563492063483, 0.034722222222216]}, \"statistics\": {\"maximum\": [0.1], \"minimum\": [0]}}, {\"data_type\": \"float32\", \"description\": \"Formaldehyde\", \"name\": \"HCHO\", \"openeo:gsd\": {\"unit\": \"\\u00b0\", \"value\": [0.054563492063483, 0.034722222222216]}, \"statistics\": {\"maximum\": [0.001], \"minimum\": [0]}}, {\"data_type\": \"float32\", \"description\": \"Nitrogen oxide\", \"name\": \"NO2\", \"openeo:gsd\": {\"unit\": \"\\u00b0\", \"value\": [0.054563492063483, 0.034722222222216]}, \"statistics\": {\"maximum\": [0.0003], \"minimum\": [0]}}, {\"data_type\": \"float32\", \"description\": \"Ozone\", \"name\": \"O3\", \"openeo:gsd\": {\"unit\": \"\\u00b0\", \"value\": [0.054563492063483, 0.034722222222216]}, \"statistics\": {\"maximum\": [0.36], \"minimum\": [0]}}, {\"data_type\": \"float32\", \"description\": \"Sulphur dioxide\", \"name\": \"SO2\", \"openeo:gsd\": {\"unit\": \"\\u00b0\", \"value\": [0.054563492063483, 0.034722222222216]}, \"statistics\": {\"maximum\": [0.01], \"minimum\": [0]}}, {\"data_type\": \"float32\", \"description\": \"Methane\", \"name\": \"CH4\", \"openeo:gsd\": {\"unit\": \"\\u00b0\", \"value\": [0.054563492063483, 0.034722222222216]}, \"statistics\": {\"maximum\": [2000], \"minimum\": [1600]}}, {\"data_type\": \"float32\", \"description\": \"UV (Ultraviolet) Aerosol Index calculated based on wavelengths of 340 nm and 380 nm\", \"name\": \"AER_AI_340_380\", \"openeo:gsd\": {\"unit\": \"\\u00b0\", \"value\": [0.054563492063483, 0.034722222222216]}, \"statistics\": {\"maximum\": [5], \"minimum\": [-1]}}, {\"data_type\": \"float32\", \"description\": \"UV (Ultraviolet) Aerosol Index calculated based on wavelengths of 354 nm and 388 nm\", \"name\": \"AER_AI_354_388\", \"openeo:gsd\": {\"unit\": \"\\u00b0\", \"value\": [0.054563492063483, 0.034722222222216]}, \"statistics\": {\"maximum\": [5], \"minimum\": [-1]}}, {\"data_type\": \"float32\", \"description\": \"Cloud base pressure\", \"name\": \"CLOUD_BASE_PRESSURE\", \"openeo:gsd\": {\"unit\": \"\\u00b0\", \"value\": [0.054563492063483, 0.034722222222216]}, \"statistics\": {\"maximum\": [110000], \"minimum\": [1000]}}, {\"data_type\": \"float32\", \"description\": \"Cloud top pressure\", \"name\": \"CLOUD_TOP_PRESSURE\", \"openeo:gsd\": {\"unit\": \"\\u00b0\", \"value\": [0.054563492063483, 0.034722222222216]}, \"statistics\": {\"maximum\": [110000], \"minimum\": [1000]}}, {\"data_type\": \"float32\", \"description\": \"Cloud base height\", \"name\": \"CLOUD_BASE_HEIGHT\", \"openeo:gsd\": {\"unit\": \"\\u00b0\", \"value\": [0.054563492063483, 0.034722222222216]}, \"statistics\": {\"maximum\": [20000], \"minimum\": [0]}}, {\"data_type\": \"float32\", \"description\": \"Cloud top height\", \"name\": \"CLOUD_TOP_HEIGHT\", \"openeo:gsd\": {\"unit\": \"\\u00b0\", \"value\": [0.054563492063483, 0.034722222222216]}, \"statistics\": {\"maximum\": [20000], \"minimum\": [0]}}, {\"data_type\": \"float32\", \"description\": \"Cloud optical thickness\", \"name\": \"CLOUD_OPTICAL_THICKNESS\", \"openeo:gsd\": {\"unit\": \"\\u00b0\", \"value\": [0.054563492063483, 0.034722222222216]}, \"statistics\": {\"maximum\": [250], \"minimum\": [0]}}, {\"data_type\": \"float32\", \"description\": \"Effective radiometric cloud fraction\", \"name\": \"CLOUD_FRACTION\", \"openeo:gsd\": {\"unit\": \"\\u00b0\", \"value\": [0.054563492063483, 0.034722222222216]}, \"statistics\": {\"maximum\": [1], \"minimum\": [0]}}, {\"data_type\": \"uint8\", \"description\": \"The mask of data/no data pixels.\", \"name\": \"dataMask\", \"statistics\": {\"maximum\": [1], \"minimum\": [0]}}], \"gsd\": [7000], \"instrument\": [\"tropomi\"], \"platform\": [\"sentinel-5 precursor\"], \"s5p:timeliness\": [\"NRTI\", \"OFFL\", \"RPRO\"], \"s5p:type\": [\"O3\", \"O3_TCL\", \"O3_PR\", \"O3_TPR\", \"NO2\", \"SO2\", \"CO\", \"CH4\", \"HCHO\", \"CLOUD\", \"AER_AI\", \"AER_LH\", \"FRESCO\", \"BD3\", \"BD6\", \"BD7\"], \"sat:orbit_state\": [\"ascending\", \"descending\"]}, \"title\": \"Sentinel 5 Precursor\", \"type\": \"Collection\"}}</script>\n",
       "    </openeo-collection>\n",
       "    "
      ],
      "text/plain": [
       "{'cube:dimensions': {'bands': {'type': 'bands',\n",
       "   'values': ['CO',\n",
       "    'HCHO',\n",
       "    'NO2',\n",
       "    'O3',\n",
       "    'SO2',\n",
       "    'CH4',\n",
       "    'AER_AI_340_380',\n",
       "    'AER_AI_354_388',\n",
       "    'CLOUD_BASE_PRESSURE',\n",
       "    'CLOUD_TOP_PRESSURE',\n",
       "    'CLOUD_BASE_HEIGHT',\n",
       "    'CLOUD_TOP_HEIGHT',\n",
       "    'CLOUD_OPTICAL_THICKNESS',\n",
       "    'CLOUD_FRACTION',\n",
       "    'dataMask']},\n",
       "  't': {'extent': ['2018-04-30T00:18:50Z', None],\n",
       "   'step': 'P1D',\n",
       "   'type': 'temporal'},\n",
       "  'x': {'axis': 'x',\n",
       "   'extent': [-180, 180],\n",
       "   'reference_system': 4326,\n",
       "   'type': 'spatial'},\n",
       "  'y': {'axis': 'y',\n",
       "   'extent': [-85, 85],\n",
       "   'reference_system': 4326,\n",
       "   'type': 'spatial'}},\n",
       " 'description': 'Sentinel 5 Precursor imagery captured by TROPOMI sensor.\\n\\nThis dataset only supports loading one band at a time.',\n",
       " 'extent': {'spatial': {'bbox': [[-180.0, -85.0, 180.0, 85.0]]},\n",
       "  'temporal': {'interval': [['2018-04-30T00:18:50Z', None]]}},\n",
       " 'id': 'SENTINEL_5P_L2',\n",
       " 'license': 'proprietary',\n",
       " 'links': [{'href': 'https://sh.dataspace.copernicus.eu/api/v1/catalog/1.0.0/',\n",
       "   'rel': 'root',\n",
       "   'type': 'application/json'},\n",
       "  {'href': 'https://sh.dataspace.copernicus.eu/api/v1/catalog/1.0.0/collections/sentinel-5p-l2',\n",
       "   'rel': 'self',\n",
       "   'type': 'application/json'},\n",
       "  {'href': 'https://sh.dataspace.copernicus.eu/api/v1/catalog/1.0.0/collections',\n",
       "   'rel': 'parent',\n",
       "   'type': 'application/json'},\n",
       "  {'href': 'https://sh.dataspace.copernicus.eu/api/v1/catalog/1.0.0/collections/sentinel-5p-l2/queryables',\n",
       "   'rel': 'http://www.opengis.net/def/rel/ogc/1.0/queryables',\n",
       "   'type': 'application/schema+json'},\n",
       "  {'href': 'https://sh.dataspace.copernicus.eu/api/v1/catalog/1.0.0/collections/sentinel-5p-l2/items',\n",
       "   'rel': 'items',\n",
       "   'type': 'application/geo+json'}],\n",
       " 'providers': [],\n",
       " 'sci:citation': 'Modified Copernicus Sentinel data [Year]/Sentinel Hub',\n",
       " 'stac_extensions': ['https://stac-extensions.github.io/scientific/v1.0.0/schema.json',\n",
       "  'https://stac-extensions.github.io/sat/v1.0.0/schema.json',\n",
       "  'https://docs.sentinel-hub.com/api/latest/stac/s5p/v1.0.0/schema.json'],\n",
       " 'stac_version': '1.0.0',\n",
       " 'summaries': {'eo:bands': [{'data_type': 'float32',\n",
       "    'description': 'Carbon monoxide',\n",
       "    'name': 'CO',\n",
       "    'openeo:gsd': {'unit': '°',\n",
       "     'value': [0.054563492063483, 0.034722222222216]},\n",
       "    'statistics': {'maximum': [0.1], 'minimum': [0]}},\n",
       "   {'data_type': 'float32',\n",
       "    'description': 'Formaldehyde',\n",
       "    'name': 'HCHO',\n",
       "    'openeo:gsd': {'unit': '°',\n",
       "     'value': [0.054563492063483, 0.034722222222216]},\n",
       "    'statistics': {'maximum': [0.001], 'minimum': [0]}},\n",
       "   {'data_type': 'float32',\n",
       "    'description': 'Nitrogen oxide',\n",
       "    'name': 'NO2',\n",
       "    'openeo:gsd': {'unit': '°',\n",
       "     'value': [0.054563492063483, 0.034722222222216]},\n",
       "    'statistics': {'maximum': [0.0003], 'minimum': [0]}},\n",
       "   {'data_type': 'float32',\n",
       "    'description': 'Ozone',\n",
       "    'name': 'O3',\n",
       "    'openeo:gsd': {'unit': '°',\n",
       "     'value': [0.054563492063483, 0.034722222222216]},\n",
       "    'statistics': {'maximum': [0.36], 'minimum': [0]}},\n",
       "   {'data_type': 'float32',\n",
       "    'description': 'Sulphur dioxide',\n",
       "    'name': 'SO2',\n",
       "    'openeo:gsd': {'unit': '°',\n",
       "     'value': [0.054563492063483, 0.034722222222216]},\n",
       "    'statistics': {'maximum': [0.01], 'minimum': [0]}},\n",
       "   {'data_type': 'float32',\n",
       "    'description': 'Methane',\n",
       "    'name': 'CH4',\n",
       "    'openeo:gsd': {'unit': '°',\n",
       "     'value': [0.054563492063483, 0.034722222222216]},\n",
       "    'statistics': {'maximum': [2000], 'minimum': [1600]}},\n",
       "   {'data_type': 'float32',\n",
       "    'description': 'UV (Ultraviolet) Aerosol Index calculated based on wavelengths of 340 nm and 380 nm',\n",
       "    'name': 'AER_AI_340_380',\n",
       "    'openeo:gsd': {'unit': '°',\n",
       "     'value': [0.054563492063483, 0.034722222222216]},\n",
       "    'statistics': {'maximum': [5], 'minimum': [-1]}},\n",
       "   {'data_type': 'float32',\n",
       "    'description': 'UV (Ultraviolet) Aerosol Index calculated based on wavelengths of 354 nm and 388 nm',\n",
       "    'name': 'AER_AI_354_388',\n",
       "    'openeo:gsd': {'unit': '°',\n",
       "     'value': [0.054563492063483, 0.034722222222216]},\n",
       "    'statistics': {'maximum': [5], 'minimum': [-1]}},\n",
       "   {'data_type': 'float32',\n",
       "    'description': 'Cloud base pressure',\n",
       "    'name': 'CLOUD_BASE_PRESSURE',\n",
       "    'openeo:gsd': {'unit': '°',\n",
       "     'value': [0.054563492063483, 0.034722222222216]},\n",
       "    'statistics': {'maximum': [110000], 'minimum': [1000]}},\n",
       "   {'data_type': 'float32',\n",
       "    'description': 'Cloud top pressure',\n",
       "    'name': 'CLOUD_TOP_PRESSURE',\n",
       "    'openeo:gsd': {'unit': '°',\n",
       "     'value': [0.054563492063483, 0.034722222222216]},\n",
       "    'statistics': {'maximum': [110000], 'minimum': [1000]}},\n",
       "   {'data_type': 'float32',\n",
       "    'description': 'Cloud base height',\n",
       "    'name': 'CLOUD_BASE_HEIGHT',\n",
       "    'openeo:gsd': {'unit': '°',\n",
       "     'value': [0.054563492063483, 0.034722222222216]},\n",
       "    'statistics': {'maximum': [20000], 'minimum': [0]}},\n",
       "   {'data_type': 'float32',\n",
       "    'description': 'Cloud top height',\n",
       "    'name': 'CLOUD_TOP_HEIGHT',\n",
       "    'openeo:gsd': {'unit': '°',\n",
       "     'value': [0.054563492063483, 0.034722222222216]},\n",
       "    'statistics': {'maximum': [20000], 'minimum': [0]}},\n",
       "   {'data_type': 'float32',\n",
       "    'description': 'Cloud optical thickness',\n",
       "    'name': 'CLOUD_OPTICAL_THICKNESS',\n",
       "    'openeo:gsd': {'unit': '°',\n",
       "     'value': [0.054563492063483, 0.034722222222216]},\n",
       "    'statistics': {'maximum': [250], 'minimum': [0]}},\n",
       "   {'data_type': 'float32',\n",
       "    'description': 'Effective radiometric cloud fraction',\n",
       "    'name': 'CLOUD_FRACTION',\n",
       "    'openeo:gsd': {'unit': '°',\n",
       "     'value': [0.054563492063483, 0.034722222222216]},\n",
       "    'statistics': {'maximum': [1], 'minimum': [0]}},\n",
       "   {'data_type': 'uint8',\n",
       "    'description': 'The mask of data/no data pixels.',\n",
       "    'name': 'dataMask',\n",
       "    'statistics': {'maximum': [1], 'minimum': [0]}}],\n",
       "  'gsd': [7000],\n",
       "  'instrument': ['tropomi'],\n",
       "  'platform': ['sentinel-5 precursor'],\n",
       "  's5p:timeliness': ['NRTI', 'OFFL', 'RPRO'],\n",
       "  's5p:type': ['O3',\n",
       "   'O3_TCL',\n",
       "   'O3_PR',\n",
       "   'O3_TPR',\n",
       "   'NO2',\n",
       "   'SO2',\n",
       "   'CO',\n",
       "   'CH4',\n",
       "   'HCHO',\n",
       "   'CLOUD',\n",
       "   'AER_AI',\n",
       "   'AER_LH',\n",
       "   'FRESCO',\n",
       "   'BD3',\n",
       "   'BD6',\n",
       "   'BD7'],\n",
       "  'sat:orbit_state': ['ascending', 'descending']},\n",
       " 'title': 'Sentinel 5 Precursor',\n",
       " 'type': 'Collection'}"
      ]
     },
     "execution_count": 4,
     "metadata": {},
     "output_type": "execute_result"
    }
   ],
   "source": [
    "conn.describe_collection(\"SENTINEL_5P_L2\")"
   ]
  },
  {
   "cell_type": "code",
   "execution_count": 5,
   "id": "763b8e99",
   "metadata": {},
   "outputs": [],
   "source": [
    "bbox = {\"west\": -66, \"south\": 14, \"east\": -58, \"north\": 18}\n",
    "sentinel5_so2 = conn.load_collection(\n",
    "    \"SENTINEL_5P_L2\",\n",
    "    spatial_extent=bbox,\n",
    "    temporal_extent=[\"2021-04-01\", \"2021-05-30\"],\n",
    "    bands=[\"SO2\"],\n",
    ")\n",
    "\n",
    "sentinel5_aerosol_354 = conn.load_collection(\n",
    "    \"SENTINEL_5P_L2\",\n",
    "    spatial_extent=bbox,\n",
    "    temporal_extent=[\"2021-04-01\", \"2021-05-30\"],\n",
    "    bands=[\"AER_AI_354_388\"],\n",
    ")\n",
    "\n",
    "sentinel5_aerosol_340 = conn.load_collection(\n",
    "    \"SENTINEL_5P_L2\",\n",
    "    spatial_extent=bbox,\n",
    "    temporal_extent=[\"2021-04-01\", \"2021-05-30\"],\n",
    "    bands=[\"AER_AI_340_380\"],\n",
    ")"
   ]
  },
  {
   "cell_type": "markdown",
   "id": "84ff5016-9155-49da-a159-31d29bf226fc",
   "metadata": {},
   "source": [
    "Let's download this slice of data in netCDF format to give it an initial inspection."
   ]
  },
  {
   "cell_type": "code",
   "execution_count": 6,
   "id": "5be51261-3e35-4691-951f-5e2af6ea2bc8",
   "metadata": {},
   "outputs": [],
   "source": [
    "sentinel5_so2.download(\"sentinel5_SO2.nc\")\n",
    "sentinel5_aerosol_354.download(\"sentinel5_aerosol_354.nc\")\n",
    "sentinel5_aerosol_340.download(\"sentinel5_aerosol_340.nc\")"
   ]
  }
 ],
 "metadata": {
  "kernelspec": {
   "display_name": "Python 3 (ipykernel)",
   "language": "python",
   "name": "python3"
  },
  "language_info": {
   "codemirror_mode": {
    "name": "ipython",
    "version": 3
   },
   "file_extension": ".py",
   "mimetype": "text/x-python",
   "name": "python",
   "nbconvert_exporter": "python",
   "pygments_lexer": "ipython3",
   "version": "3.10.12"
  }
 },
 "nbformat": 4,
 "nbformat_minor": 5
}
